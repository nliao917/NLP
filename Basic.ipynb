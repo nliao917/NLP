{
 "cells": [
  {
   "cell_type": "markdown",
   "metadata": {},
   "source": [
    "# Tokenization "
   ]
  },
  {
   "cell_type": "code",
   "execution_count": null,
   "metadata": {},
   "outputs": [],
   "source": [
    "import spacy"
   ]
  },
  {
   "cell_type": "code",
   "execution_count": null,
   "metadata": {},
   "outputs": [],
   "source": [
    "print(spacy.__version__)"
   ]
  },
  {
   "cell_type": "code",
   "execution_count": null,
   "metadata": {},
   "outputs": [],
   "source": [
    "#!python -m spacy download en_core_web_md\n",
    "import en_core_web_md\n",
    "#for medium size model "
   ]
  },
  {
   "cell_type": "code",
   "execution_count": null,
   "metadata": {},
   "outputs": [],
   "source": [
    "#nlp = spacy.load(name = 'en_core_web_sm')\n",
    "nlp_1 = en_core_web_md.load()"
   ]
  },
  {
   "cell_type": "code",
   "execution_count": null,
   "metadata": {},
   "outputs": [],
   "source": [
    "doc1 = nlp(s1)\n",
    "for token in doc1:\n",
    "    print(token)\n",
    "#to access tokens. tokens would split words like let's - let 's\n",
    "#doc1 cannot be modified through []\n",
    "#$40 - $ 40"
   ]
  },
  {
   "cell_type": "markdown",
   "metadata": {},
   "source": [
    "# Stemming"
   ]
  },
  {
   "cell_type": "code",
   "execution_count": null,
   "metadata": {},
   "outputs": [],
   "source": [
    "import nltk"
   ]
  },
  {
   "cell_type": "code",
   "execution_count": null,
   "metadata": {},
   "outputs": [],
   "source": [
    "from nltk.stem.porter import PorterStemmer\n",
    "from nltk.stem.snowball import  SnowballStemmer"
   ]
  },
  {
   "cell_type": "code",
   "execution_count": null,
   "metadata": {},
   "outputs": [],
   "source": [
    "p_stemmer = PorterStemmer()\n",
    "s_stemmer = SnowballStemmer(language='english')"
   ]
  },
  {
   "cell_type": "code",
   "execution_count": null,
   "metadata": {},
   "outputs": [],
   "source": [
    "for word in words:\n",
    "    print(word + ' ------  ' +p_stemmer.stem(word))\n",
    "#  print(word + ' ------  ' +s_stemmer.stem(word))\n",
    "\n",
    "'''\n",
    "run ------  run\n",
    "runner ------  runner\n",
    "running ------  run\n",
    "ran ------  ran\n",
    "runs ------  run\n",
    "easily ------  easili\n",
    "fairly ------  fairli/fair\n",
    "\n",
    "'''"
   ]
  },
  {
   "cell_type": "markdown",
   "metadata": {},
   "source": [
    "# Lemmatization "
   ]
  },
  {
   "cell_type": "code",
   "execution_count": null,
   "metadata": {},
   "outputs": [],
   "source": [
    "import spacy\n",
    "nlp = spacy.load('en_core_web_sm')\n",
    "doc1 = nlp(s1)\n",
    "for token in doc1:\n",
    "    print(token.text, '\\t', token.lemma_)\n",
    "#will convert be verb as well"
   ]
  },
  {
   "cell_type": "markdown",
   "metadata": {},
   "source": [
    "# Stop Words"
   ]
  },
  {
   "cell_type": "code",
   "execution_count": null,
   "metadata": {},
   "outputs": [],
   "source": [
    "import spacy\n",
    "nlp = spacy.load('en_core_web_sm')\n",
    "\n",
    "print(nlp.Defaults.stop_words)\n",
    "#default list of stop words\n",
    "\n",
    "nlp.vocab['new'].is_stop\n",
    "#can be used to check or assign\n",
    "nlp.Defaults.stop_words.add('new')\n",
    "nlp.Defaults.stop_words.remove('new')"
   ]
  },
  {
   "cell_type": "markdown",
   "metadata": {},
   "source": [
    "# Rule Based Matching\n",
    "\n",
    "[Demo For Rule based matching](https://explosion.ai/demos/matcher)\n",
    "\n",
    "can match numbers, specific words, orginization, etc. "
   ]
  },
  {
   "cell_type": "code",
   "execution_count": null,
   "metadata": {},
   "outputs": [],
   "source": [
    "import spacy\n",
    "nlp = spacy.load('en_core_web_sm')\n",
    "\n",
    "\n",
    "from spacy.matcher import Matcher\n",
    "matcher = Matcher(nlp.vocab)\n",
    "\n",
    "\n",
    "# Hello World can appear in the following ways,\n",
    "# 1) Hello World  hello world Hello WORLD\n",
    "# 2) Hello-World\n",
    "\n",
    "pattern_1 = [{'LOWER': 'hello'}, {'LOWER': 'world'}]\n",
    "pattern_2 = [{'LOWER': 'hello'}, {'IS_PUNCT': True}, {'LOWER': 'world'}]\n",
    "\n",
    "# 'LOWER', 'IS_PUNCT' are the attributes\n",
    "# they has to be written in  that way only\n",
    "\n",
    "\n",
    "# Add patterns to matcher object\n",
    "\n",
    "# Add a match rule to matcher, A match rule consists of,\n",
    "# 1) An ID key\n",
    "# 2) an on_match callback\n",
    "# 3) one or more patterns\n",
    "\n",
    "matcher.add('Hello World', None, pattern_1, pattern_2)"
   ]
  },
  {
   "cell_type": "code",
   "execution_count": null,
   "metadata": {},
   "outputs": [],
   "source": [
    "find_matches = matcher(doc) # passin doc to matcher object and store this in a variable \n",
    "print(find_matches)\n",
    "\n",
    "# it returns output list of tuples\n",
    "# string ID, index start and index end\n",
    "\n",
    "\n",
    "# define a function to find the matches\n",
    "\n",
    "for match_id, start, end in find_matches:\n",
    "    string_id = nlp.vocab.strings[match_id]  # get string representation\n",
    "    span = doc[start:end]                    # get the matched span\n",
    "    print(match_id, string_id, start, end, span.text)\n",
    "    \n",
    "    \n",
    "# Removing the matches\n",
    "matcher.remove('Hello World')"
   ]
  },
  {
   "cell_type": "markdown",
   "metadata": {},
   "source": [
    "# Phase Matching"
   ]
  },
  {
   "cell_type": "code",
   "execution_count": null,
   "metadata": {},
   "outputs": [],
   "source": [
    "import spacy\n",
    "nlp = spacy.load('en_core_web_sm')\n",
    "\n",
    "\n",
    "# Import the PhraseMatcher library\n",
    "from spacy.matcher import PhraseMatcher\n",
    "matcher = PhraseMatcher(nlp.vocab)\n",
    "\n",
    "\n",
    "phrase_list = [] #a list of strings\n",
    "\n",
    "\n",
    "# Convert each phrase to a document object\n",
    "phrase_patterns = [nlp(text) for text in phrase_list]\n",
    "# no longer strings - spacy.tokens.doc.Doc\n",
    "\n",
    "\n",
    "# pass each doc object into the matcher\n",
    "matcher.add(\"TerminologyList\", None, *phrase_patterns)\n",
    "# thats we have to add asterisk mark before phrase_pattern"
   ]
  },
  {
   "cell_type": "code",
   "execution_count": null,
   "metadata": {},
   "outputs": [],
   "source": [
    "find_matches = matcher(doc_3) # passin doc to matcher object and store this in a variable \n",
    "print(find_matches)\n",
    "\n",
    "\n",
    "# define a function to find the matches\n",
    "\n",
    "for match_id, start, end in find_matches:\n",
    "    string_id = nlp.vocab.strings[match_id]  # get string representation\n",
    "    span = doc_3[start:end]                    # get the matched span\n",
    "    print(match_id, string_id, start, end, span.text)"
   ]
  },
  {
   "cell_type": "markdown",
   "metadata": {},
   "source": []
  },
  {
   "cell_type": "code",
   "execution_count": null,
   "metadata": {},
   "outputs": [],
   "source": []
  },
  {
   "cell_type": "code",
   "execution_count": null,
   "metadata": {},
   "outputs": [],
   "source": []
  },
  {
   "cell_type": "code",
   "execution_count": null,
   "metadata": {},
   "outputs": [],
   "source": []
  }
 ],
 "metadata": {
  "kernelspec": {
   "display_name": "Python 3",
   "language": "python",
   "name": "python3"
  },
  "language_info": {
   "codemirror_mode": {
    "name": "ipython",
    "version": 3
   },
   "file_extension": ".py",
   "mimetype": "text/x-python",
   "name": "python",
   "nbconvert_exporter": "python",
   "pygments_lexer": "ipython3",
   "version": "3.8.5"
  }
 },
 "nbformat": 4,
 "nbformat_minor": 4
}
